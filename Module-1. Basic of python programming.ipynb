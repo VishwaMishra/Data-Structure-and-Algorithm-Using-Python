{
 "cells": [
  {
   "cell_type": "markdown",
   "metadata": {},
   "source": [
    "## Iteration with Loops"
   ]
  },
  {
   "cell_type": "code",
   "execution_count": 1,
   "metadata": {},
   "outputs": [
    {
     "name": "stdout",
     "output_type": "stream",
     "text": [
      "The value of item is:  1\n",
      "The value of item is:  2\n",
      "The value of item is:  3\n",
      "The value of item is:  5\n"
     ]
    }
   ],
   "source": [
    "my_list=[1,2,3,5]\n",
    "for i in my_list:\n",
    "    print('The value of item is: ',i)"
   ]
  },
  {
   "cell_type": "code",
   "execution_count": null,
   "metadata": {},
   "outputs": [],
   "source": [
    "# Print the number from 0 to 9\n",
    "i=0\n",
    "while(i<10):\n",
    "    print(i)\n",
    "    i+=1"
   ]
  },
  {
   "cell_type": "code",
   "execution_count": 4,
   "metadata": {},
   "outputs": [
    {
     "name": "stdout",
     "output_type": "stream",
     "text": [
      "5\n"
     ]
    },
    {
     "data": {
      "text/plain": [
       "120"
      ]
     },
     "execution_count": 4,
     "metadata": {},
     "output_type": "execute_result"
    }
   ],
   "source": [
    "# print factorial of number\n",
    "\n",
    "n=int(input())\n",
    "def fact(n):\n",
    "    s=1\n",
    "    for i in range(1,n+1):\n",
    "        s=s*i\n",
    "    return s\n",
    "fact(n)"
   ]
  },
  {
   "cell_type": "code",
   "execution_count": 6,
   "metadata": {},
   "outputs": [
    {
     "name": "stdout",
     "output_type": "stream",
     "text": [
      "Value is  Hi\n",
      "Value is  Ram\n",
      "Value is  Brother\n"
     ]
    }
   ],
   "source": [
    "# display all value of Dictionary\n",
    "my_dict={1:'Hi',2:\"Ram\",3:\"Brother\"}\n",
    "for key in my_dict:\n",
    "    print(\"Value is \",my_dict[key])\n",
    "    "
   ]
  },
  {
   "cell_type": "markdown",
   "metadata": {},
   "source": [
    "# Conditional Statements"
   ]
  },
  {
   "cell_type": "code",
   "execution_count": 7,
   "metadata": {},
   "outputs": [
    {
     "name": "stdout",
     "output_type": "stream",
     "text": [
      "5\n",
      "The number is equal to 5\n"
     ]
    }
   ],
   "source": [
    "n=int(input())\n",
    "if n < 5:\n",
    "    print('The number is smaller than 5.')\n",
    "elif n==5:\n",
    "    print('The number is equal to 5')\n",
    "else:\n",
    "    print('The number is greater than 5.')"
   ]
  },
  {
   "cell_type": "markdown",
   "metadata": {},
   "source": [
    "## Control Structure Practice"
   ]
  },
  {
   "cell_type": "code",
   "execution_count": 2,
   "metadata": {},
   "outputs": [
    {
     "name": "stdout",
     "output_type": "stream",
     "text": [
      "2\n",
      "0.2\n"
     ]
    }
   ],
   "source": [
    "def smallest_positive(in_list):\n",
    "    small=None\n",
    "    for num in in_list:\n",
    "        if num>0:\n",
    "            if small == None or num < small:\n",
    "                small = num\n",
    "    return small\n",
    "\n",
    "print(smallest_positive([4,-6,7,2,-4,10]))\n",
    "\n",
    "print(smallest_positive([.2,5,3,-.1,7,7,6]))"
   ]
  },
  {
   "cell_type": "markdown",
   "metadata": {},
   "source": [
    "## Exercise for Practice "
   ]
  },
  {
   "cell_type": "code",
   "execution_count": 6,
   "metadata": {},
   "outputs": [
    {
     "name": "stdout",
     "output_type": "stream",
     "text": [
      "['Winter2020']\n"
     ]
    }
   ],
   "source": [
    "courses={\n",
    "    'summer2020': {'cs1':{'course_name': 'C Programming'},\n",
    "                 'IT1':{'course_name':'Java Prgramming'}},\n",
    "    'Winter2020': {'cs2':{'course_name': 'Python Programming'},\n",
    "                 'IT2':{'course_name':'DSA'} } }\n",
    "\n",
    "semesters=[]\n",
    "\n",
    "def when_offered(courses,course):\n",
    "    for semester in courses:\n",
    "        if course in courses[semester]:\n",
    "            semesters.append(semester)\n",
    "    return semesters\n",
    "\n",
    "print(when_offered(courses,'cs2'))"
   ]
  },
  {
   "cell_type": "markdown",
   "metadata": {},
   "source": [
    "## Functions & Generators in Python\n",
    "### In python, function declaration can be done using 'def' keyword and function return one or more values. The biggest diffeence between a function and generator from a code perspective in one  word: return is changed to yield."
   ]
  },
  {
   "cell_type": "code",
   "execution_count": 1,
   "metadata": {},
   "outputs": [
    {
     "name": "stdout",
     "output_type": "stream",
     "text": [
      "0\n",
      "2\n",
      "4\n",
      "6\n",
      "8\n"
     ]
    }
   ],
   "source": [
    "def all_even():\n",
    "    n=0\n",
    "    while True:\n",
    "        yield n\n",
    "        n += 2\n",
    "my = all_even()\n",
    "\n",
    "# Generate the first 5 even numbers.\n",
    "\n",
    "for i in range(5):\n",
    "    print(next(my))"
   ]
  },
  {
   "cell_type": "code",
   "execution_count": 4,
   "metadata": {},
   "outputs": [
    {
     "data": {
      "text/plain": [
       "10"
      ]
     },
     "execution_count": 4,
     "metadata": {},
     "output_type": "execute_result"
    }
   ],
   "source": [
    "next(my) ## It pick back up right where it stopped at yield from before."
   ]
  },
  {
   "cell_type": "code",
   "execution_count": 30,
   "metadata": {},
   "outputs": [
    {
     "name": "stdout",
     "output_type": "stream",
     "text": [
      "True\n",
      "False\n"
     ]
    }
   ],
   "source": [
    "## Check sudoku squares for correctness.\n",
    "\n",
    "matrix1= [[1,2,3],\n",
    "         [2,3,1],\n",
    "         [3,1,2]]\n",
    "\n",
    "matrix2 = [[1,2,3],\n",
    "          [2,2,3],\n",
    "          [3,2,1]]\n",
    "\n",
    "def check_sudoku(matrix):\n",
    "    for i in range(len(matrix)):\n",
    "        map = set()\n",
    "        for j in range(1,len(matrix[i])+1):\n",
    "            if j not in matrix[i]:\n",
    "                return False\n",
    "            if matrix[j-1][i] not in map:\n",
    "                map.add(matrix[j-1][i])\n",
    "            else:\n",
    "                return False\n",
    "    \n",
    "    return True\n",
    "        \n",
    "print(check_sudoku(matrix1))\n",
    "print(check_sudoku(matrix2))\n"
   ]
  },
  {
   "cell_type": "code",
   "execution_count": 2,
   "metadata": {},
   "outputs": [
    {
     "name": "stdout",
     "output_type": "stream",
     "text": [
      "Enter the number: 3\n",
      "1 \t\n",
      "1 \t\n",
      "2 \t\n",
      "1 \t\n",
      "2 \t\n",
      "3 \t\n"
     ]
    }
   ],
   "source": [
    "## print the pattern\n",
    "\n",
    "'''\n",
    "1\n",
    "1 2\n",
    "1 2 3 \n",
    "1 2 3 ... n'''\n",
    "\n",
    "n= int(input('Enter the number: '))\n",
    "for i in range(0,n+1):\n",
    "    for j in range(1,i+1):\n",
    "        print(j,'\\t')\n",
    "#     print(end=\"\")"
   ]
  },
  {
   "cell_type": "markdown",
   "metadata": {},
   "source": [
    "## Python Classes Review\n",
    "### A class is a structure in object-oriented programming that allows\n",
    "### function and related data to be group together.\n",
    "\n",
    "### In pyhton class 'self' keyword is used to reference a class instance's own variables. for eg. self.name etc."
   ]
  },
  {
   "cell_type": "code",
   "execution_count": 5,
   "metadata": {},
   "outputs": [
    {
     "name": "stdout",
     "output_type": "stream",
     "text": [
      "('Ram', 'Mishra')\n"
     ]
    }
   ],
   "source": [
    "class Person:\n",
    "    def __init__(self,Fname,Lname):\n",
    "        self.Fname=Fname\n",
    "        self.Lname=Lname\n",
    "        \n",
    "    def getDetails(self):\n",
    "        return (self.Fname,self.Lname)\n",
    "    \n",
    "    \n",
    "p=Person('Ram','Mishra')\n",
    "print(p.getDetails())"
   ]
  },
  {
   "cell_type": "markdown",
   "metadata": {},
   "source": [
    "## Exercise on Python Class"
   ]
  },
  {
   "cell_type": "code",
   "execution_count": 12,
   "metadata": {},
   "outputs": [
    {
     "name": "stdout",
     "output_type": "stream",
     "text": [
      "3\n",
      "vishwa\n",
      "20\n",
      "April\n",
      "shiv\n",
      "20\n",
      "Aug\n",
      "ram\n",
      "20\n",
      "April\n",
      "It time to Party  vishwa\n",
      "vishwa\n"
     ]
    }
   ],
   "source": [
    "class MyFriendList:\n",
    "    def __init__(self,name,age,month):\n",
    "        self.name=name\n",
    "        self.age=age\n",
    "        self.month=month\n",
    "    \n",
    "class Birthday:\n",
    "    def __init__(self,friendList):\n",
    "        self.friendList=friendList\n",
    "        \n",
    "    def get_april_Birthday(self):\n",
    "        for i in self.friendList:\n",
    "            if i.month==\"April\":\n",
    "                print('It time to Party ',i.name)\n",
    "                return i.name\n",
    "        \n",
    "        \n",
    "def main():\n",
    "    ls=[]\n",
    "    n=int(input())\n",
    "    for i in range(n):\n",
    "        name=input()\n",
    "        age=int(input())\n",
    "        month=input()\n",
    "        m=MyFriendList(name,age,month)\n",
    "        ls.append(m)\n",
    "    b=Birthday(ls)\n",
    "    print(b.get_april_Birthday())\n",
    "    \n",
    "main()\n",
    "        "
   ]
  },
  {
   "cell_type": "code",
   "execution_count": null,
   "metadata": {},
   "outputs": [],
   "source": []
  }
 ],
 "metadata": {
  "kernelspec": {
   "display_name": "Python 3",
   "language": "python",
   "name": "python3"
  },
  "language_info": {
   "codemirror_mode": {
    "name": "ipython",
    "version": 3
   },
   "file_extension": ".py",
   "mimetype": "text/x-python",
   "name": "python",
   "nbconvert_exporter": "python",
   "pygments_lexer": "ipython3",
   "version": "3.7.1"
  }
 },
 "nbformat": 4,
 "nbformat_minor": 2
}
